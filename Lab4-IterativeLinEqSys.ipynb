{
 "cells": [
  {
   "cell_type": "markdown",
   "metadata": {},
   "source": [
    "# Iteracyjne metody rozwiązywania równań liniowych"
   ]
  },
  {
   "cell_type": "markdown",
   "metadata": {},
   "source": [
    "### Czytanka\n",
    "* Kincaid, Cheney, rozdz. 8.2, str. 319 (bardzo przystępnie napisane)\n",
    "* Normy wektorów i macierzy:\n",
    "    * wektorowa: https://en.wikipedia.org/wiki/Norm_(mathematics)\n",
    "    * macierzowa: https://en.wikipedia.org/wiki/Matrix_norm\n",
    "* Metoda Jacobiego: https://en.wikipedia.org/wiki/Jacobi_method\n",
    "* Metoda SOR: https://en.wikipedia.org/wiki/Successive_over-relaxation\n",
    "* Metoda Gaussa-Seidela: https://en.wikipedia.org/wiki/Gauss%E2%80%93Seidel_method\n",
    "* (ale wystarczy K&C)\n",
    "\n",
    "### Troszkę teorii\n",
    "\n",
    "Chcemy rozwiązać układ równań liniowych postaci $A\\mathbf {x} =\\mathbf {b} $, gdzie:\n",
    "\n",
    "$$\n",
    "A={\\begin{bmatrix}a_{11}&a_{12}&\\cdots &a_{1n}\\\\a_{21}&a_{22}&\\cdots &a_{2n}\\\\\\vdots &\\vdots &\\ddots &\\vdots \\\\a_{n1}&a_{n2}&\\cdots &a_{nn}\\end{bmatrix}},\\qquad \\mathbf {x} ={\\begin{bmatrix}x_{1}\\\\x_{2}\\\\\\vdots \\\\x_{n}\\end{bmatrix}},\\qquad \\mathbf {b} ={\\begin{bmatrix}b_{1}\\\\b_{2}\\\\\\vdots \\\\b_{n}\\end{bmatrix}}.\n",
    "$$\n",
    "\n",
    "Mimo, że dobrze znamy dokładne metody rozwiązania takiego równania, częstokroć w praktyce nie możemy ich zastosować -- przede wszystkim ze względu na rozmiar problemu. Rozwiązanie? Zastosować metody iteracyjne, które, choć nie dadzą nam dokładnego wyniku, pozwolą nam w rozsądnym czasie uzyskać dobrą aproksymację. (Zresztą, dokładne metody też nie dają dokładnych rezultatów z powodu błędów arytmetyki zmiennoprzecinkowej).\n",
    "\n",
    "_Suchy żarcik dnia: John ma problem. John myśli: \"Wiem, użyję arytmetyki zmiennoprzecinkowej.\" Teraz John ma 1.999999997 problemu. (Zasłyszane w pracy)._\n",
    "\n",
    "\n",
    "#### Metoda Jacobiego\n",
    "\n",
    "Metody Jacobiego możemy użyć pod warunkiem, że macierz jest przekątniowo dominująca, tj. mamy $ |a_{ii}|\\geq \\sum _{j\\neq i}|a_{ij}|\\quad {\\text{dla każdego }}i. $\n",
    "\n",
    "Pomysł polega na rozkładzie macierzy A na **sumę** dwóch macierzy:\n",
    "$$\n",
    "A=D+R\\qquad {\\text{gdzie}}\\qquad D={\\begin{bmatrix}a_{11}&0&\\cdots &0\\\\0&a_{22}&\\cdots &0\\\\\\vdots &\\vdots &\\ddots &\\vdots \\\\0&0&\\cdots &a_{nn}\\end{bmatrix}}{\\text{ oraz }}R={\\begin{bmatrix}0&a_{12}&\\cdots &a_{1n}\\\\a_{21}&0&\\cdots &a_{2n}\\\\\\vdots &\\vdots &\\ddots &\\vdots \\\\a_{n1}&a_{n2}&\\cdots &0\\end{bmatrix}}.\n",
    "$$\n",
    "\n",
    "Następnie krok iteracji wygląda następująco:\n",
    "$$ \\mathbf {x} ^{(k+1)}=D^{-1}(\\mathbf {b} -R\\mathbf {x} ^{(k)}), $$\n",
    "\n",
    "I element po elemencie:\n",
    "$$ x_{i}^{(k+1)}={\\frac {1}{a_{ii}}}\\left(b_{i}-\\sum _{j\\neq i}a_{ij}x_{j}^{(k)}\\right),\\quad i=1,2,\\ldots ,n. $$\n",
    "\n",
    "Zwróćmy uwagę, że cały trick polega na tym, że macierz $D$ bardzo łatwo odwrócić.\n",
    "\n",
    "### Zadanie 1.\n",
    "Zaimplementować metodę Jacobiego i przetestować jej działanie na paru układach równań. Porównać z metodą eliminacji Gaussa użytą do tych samych równań."
   ]
  },
  {
   "cell_type": "code",
   "execution_count": 107,
   "metadata": {
    "ExecuteTime": {
     "end_time": "2019-04-06T17:56:45.985145Z",
     "start_time": "2019-04-06T17:56:45.976252Z"
    }
   },
   "outputs": [],
   "source": [
    "import numpy as np\n",
    "\n",
    "def jacobi_solve(A: np.array, b: np.array, iteration_limit = 100, eps = 1e-20) -> np.array:\n",
    "    n = len(b)\n",
    "    if A.shape[0] != A.shape[1] or A.shape[0] != n: raise ValueError(\"Matrix A must be square, of size equal to b length\")\n",
    "    prev_x = np.zeros(n)\n",
    "    x = np.zeros(n)\n",
    "    for k in range(iteration_limit):\n",
    "        for i in range(n):\n",
    "            x[i] = b[i]\n",
    "            for j in range(n):\n",
    "                if j != i:\n",
    "                    x[i] -= A[i][j] * prev_x[j]\n",
    "            x[i] /= A[i][i]\n",
    "        if np.all([np.abs(x[i] - prev_x[i]) < eps for i in range(n)]):\n",
    "            return x,k\n",
    "        prev_x = np.copy(x)\n",
    "    return x, 100"
   ]
  },
  {
   "cell_type": "code",
   "execution_count": 4,
   "metadata": {
    "ExecuteTime": {
     "end_time": "2019-04-06T16:44:23.557750Z",
     "start_time": "2019-04-06T16:44:23.541950Z"
    }
   },
   "outputs": [
    {
     "name": "stdout",
     "output_type": "stream",
     "text": [
      "[-0.14571442 -0.28845032  0.01427514  1.65914975]\n",
      "Convergence reached in 69 iteration\n",
      "[-0.14571442 -0.28845032  0.01427514  1.65914975]\n"
     ]
    }
   ],
   "source": [
    "A = np.array([[34, -5.0300, 5.8090, 7.8320],\n",
    "               [2.2660, 19.950,  1.2120, 8.0080],\n",
    "               [8.8500, 5.6810,  455.20, 1.3020],\n",
    "               [6.7750, -2.253,  2.9080, 3.9700]])\n",
    "\n",
    "b = np.transpose([9.5740, 7.2190, 5.7300, 6.2910])\n",
    "\n",
    "print(np.linalg.solve(A,b))\n",
    "print(jacobi_solve(A,b))"
   ]
  },
  {
   "cell_type": "code",
   "execution_count": null,
   "metadata": {},
   "outputs": [],
   "source": []
  },
  {
   "cell_type": "markdown",
   "metadata": {},
   "source": [
    "#### Metoda Gaussa-Seidela\n",
    "\n",
    "Opiera się na tym samym pomyśle, co metoda Jacobiego, ale przy innym rozkładzie macierzy $A$:\n",
    "\n",
    "$$\n",
    "A=L_{*}+U\\qquad {\\text{where}}\\qquad L_{*}={\\begin{bmatrix}a_{11}&0&\\cdots &0\\\\a_{21}&a_{22}&\\cdots &0\\\\\\vdots &\\vdots &\\ddots &\\vdots \\\\a_{n1}&a_{n2}&\\cdots &a_{nn}\\end{bmatrix}},\\quad U={\\begin{bmatrix}0&a_{12}&\\cdots &a_{1n}\\\\0&0&\\cdots &a_{2n}\\\\\\vdots &\\vdots &\\ddots &\\vdots \\\\0&0&\\cdots &0\\end{bmatrix}}.\n",
    "$$\n",
    "\n",
    "Wtedy układ równań możemy zapisać jako: $ L_{*}\\mathbf {x} =\\mathbf {b} -U\\mathbf {x} $ i iterować tak:\n",
    "\n",
    "$$ \\mathbf {x} ^{(k+1)}=L_{*}^{-1}(\\mathbf {b} -U\\mathbf {x} ^{(k)}). $$\n",
    "\n",
    "Element po elemencie:\n",
    "\n",
    "$$ {\\displaystyle x_{i}^{(k+1)}={\\frac {1}{a_{ii}}}\\left(b_{i}-\\sum _{j=1}^{i-1}a_{ij}x_{j}^{(k+1)}-\\sum _{j=i+1}^{n}a_{ij}x_{j}^{(k)}\\right),\\quad i=1,2,\\dots ,n.} $$\n",
    "\n",
    "Podobnie jak z Jacobim, tutaj trick polega na tym, że macierz L jest łatwa do odwrócenia.\n",
    "\n",
    "### Zadanie 2.\n",
    "Zaimplementować metodę Gaussa-Seidela i przetestować na tych samych układach równań, co metodę Jacobiego. "
   ]
  },
  {
   "cell_type": "code",
   "execution_count": 106,
   "metadata": {
    "ExecuteTime": {
     "end_time": "2019-04-06T17:56:22.890719Z",
     "start_time": "2019-04-06T17:56:22.879129Z"
    }
   },
   "outputs": [],
   "source": [
    "def gauss_seidel_solve(A: np.array, b: np.array, iteration_limit = 100, eps = 1e-20) -> np.array:\n",
    "    n = len(b)\n",
    "    if A.shape[0] != A.shape[1] or A.shape[0] != n: raise ValueError(\"Matrix A must be square, of size equal to b length\")\n",
    "    prev_x = np.zeros(n)\n",
    "    x = np.zeros(n)\n",
    "    for k in range(iteration_limit):\n",
    "        for i in range(n):\n",
    "            x[i] = b[i]\n",
    "            for j in range(i):\n",
    "                x[i] -= A[i][j] * x[j]\n",
    "            for j in range(i+1, n):\n",
    "                x[i] -= A[i][j] * prev_x[j]\n",
    "            x[i] /= A[i][i]\n",
    "        if np.all([np.abs(x[i] - prev_x[i]) < eps for i in range(n)]):\n",
    "            return x, k\n",
    "        prev_x = np.copy(x)\n",
    "    return x, 100"
   ]
  },
  {
   "cell_type": "code",
   "execution_count": 6,
   "metadata": {
    "ExecuteTime": {
     "end_time": "2019-04-06T16:44:47.632479Z",
     "start_time": "2019-04-06T16:44:47.616404Z"
    }
   },
   "outputs": [
    {
     "name": "stdout",
     "output_type": "stream",
     "text": [
      "[-0.14571442 -0.28845032  0.01427514  1.65914975]\n",
      "Convergence reached in 41 iteration\n",
      "[-0.14571442 -0.28845032  0.01427514  1.65914975]\n"
     ]
    }
   ],
   "source": [
    "A = np.array([[34, -5.0300, 5.8090, 7.8320],\n",
    "               [2.2660, 19.950,  1.2120, 8.0080],\n",
    "               [8.8500, 5.6810,  455.20, 1.3020],\n",
    "               [6.7750, -2.253,  2.9080, 3.9700]])\n",
    "\n",
    "b = np.transpose([9.5740, 7.2190, 5.7300, 6.2910])\n",
    "\n",
    "print(np.linalg.solve(A,b))\n",
    "print(gauss_seidel_solve(A,b))"
   ]
  },
  {
   "cell_type": "markdown",
   "metadata": {},
   "source": [
    "#### Metoda SOR (Successive Over Relaxation)\n",
    "\n",
    "Znowu podobnie, tyle, że tym razem rozkładamy macierz na sumę trzech macierzy:\n",
    "\n",
    "$$\n",
    "D={\\begin{bmatrix}a_{11}&0&\\cdots &0\\\\0&a_{22}&\\cdots &0\\\\\\vdots &\\vdots &\\ddots &\\vdots \\\\0&0&\\cdots &a_{nn}\\end{bmatrix}},\\quad L={\\begin{bmatrix}0&0&\\cdots &0\\\\a_{21}&0&\\cdots &0\\\\\\vdots &\\vdots &\\ddots &\\vdots \\\\a_{n1}&a_{n2}&\\cdots &0\\end{bmatrix}},\\quad U={\\begin{bmatrix}0&a_{12}&\\cdots &a_{1n}\\\\0&0&\\cdots &a_{2n}\\\\\\vdots &\\vdots &\\ddots &\\vdots \\\\0&0&\\cdots &0\\end{bmatrix}}.\n",
    "$$\n",
    "\n",
    "Co umożliwia zapisanie układu równań tak: $ (D+\\omega L)\\mathbf {x} =\\omega \\mathbf {b} -[\\omega U+(\\omega -1)D]\\mathbf {x} $ i daje następujące wzory na iterację:\n",
    "\n",
    "$$ \\mathbf {x} ^{(k+1)}=(D+\\omega L)^{-1}{\\big (}\\omega \\mathbf {b} -[\\omega U+(\\omega -1)D]\\mathbf {x} ^{(k)}{\\big )}=L_{w}\\mathbf {x} ^{(k)}+\\mathbf {c} , $$\n",
    "\n",
    "oraz:\n",
    "\n",
    "$$ x_{i}^{(k+1)}=(1-\\omega )x_{i}^{(k)}+{\\frac {\\omega }{a_{ii}}}\\left(b_{i}-\\sum _{j<i}a_{ij}x_{j}^{(k+1)}-\\sum _{j>i}a_{ij}x_{j}^{(k)}\\right),\\quad i=1,2,\\ldots ,n. $$\n",
    "\n",
    "### Zadanie 3.\n",
    "Zaimplementować metodę SOR i przetestować na tych samych układach."
   ]
  },
  {
   "cell_type": "code",
   "execution_count": 104,
   "metadata": {
    "ExecuteTime": {
     "end_time": "2019-04-06T17:54:59.416483Z",
     "start_time": "2019-04-06T17:54:59.402545Z"
    }
   },
   "outputs": [],
   "source": [
    "def sor_solve(A: np.array, b: np.array, omega = 1.0, eps = 1e-20, iteration_limit = 100) -> np.array:\n",
    "    n = len(b)\n",
    "    if A.shape[0] != A.shape[1] or A.shape[0] != n: raise ValueError(\"Matrix A must be square, of size equal to b length\")\n",
    "    if not .0 <= omega <= 2.0: raise ValueError(\"Appropriate omega should be between 0 and 2q\")\n",
    "    prev_x = np.zeros(n)\n",
    "    x = np.zeros(n)\n",
    "    for k in range(iteration_limit):\n",
    "        for i in range(n):\n",
    "            x[i] = b[i]\n",
    "            for j in range(i):\n",
    "                x[i] -= A[i][j] * x[j]\n",
    "            for j in range(i+1, n):\n",
    "                x[i] -= A[i][j] * prev_x[j]\n",
    "            x[i] = x[i]*omega/A[i][i] + (1-omega)*prev_x[i]\n",
    "        if np.all([np.abs(x[i] - prev_x[i]) < eps for i in range(n)]):\n",
    "            return x, k\n",
    "        prev_x = np.copy(x)\n",
    "    return x, 100"
   ]
  },
  {
   "cell_type": "code",
   "execution_count": 105,
   "metadata": {
    "ExecuteTime": {
     "end_time": "2019-04-06T17:55:00.295126Z",
     "start_time": "2019-04-06T17:55:00.278406Z"
    }
   },
   "outputs": [
    {
     "name": "stdout",
     "output_type": "stream",
     "text": [
      "[-0.14571442 -0.28845032  0.01427514  1.65914975]\n",
      "37\n"
     ]
    }
   ],
   "source": [
    "g = sor_solve(A,b,1.05)\n",
    "for x in g:\n",
    "    print(x)"
   ]
  },
  {
   "cell_type": "code",
   "execution_count": 84,
   "metadata": {
    "ExecuteTime": {
     "end_time": "2019-04-06T17:45:27.677903Z",
     "start_time": "2019-04-06T17:45:27.670743Z"
    }
   },
   "outputs": [],
   "source": [
    "def find_best_omega(A: np.array, b: np.array) -> float:\n",
    "    min_omega = 0\n",
    "    min_convergence = 100 \n",
    "    for omega in np.linspace(.01, 1.99, num=200):\n",
    "        _, k = sor_solve(A, b, omega)\n",
    "        if k < min_convergence:\n",
    "            min_convergence = k\n",
    "            min_omega = omega\n",
    "    return min_omega"
   ]
  },
  {
   "cell_type": "code",
   "execution_count": 87,
   "metadata": {
    "ExecuteTime": {
     "end_time": "2019-04-06T17:45:59.570825Z",
     "start_time": "2019-04-06T17:45:58.526981Z"
    },
    "pixiedust": {
     "displayParams": {}
    }
   },
   "outputs": [
    {
     "name": "stdout",
     "output_type": "stream",
     "text": [
      "[-0.14571442 -0.28845032  0.01427514  1.65914975]\n",
      "1.0547236180904522\n",
      "(array([-0.14571442, -0.28845032,  0.01427514,  1.65914975]), 36)\n"
     ]
    }
   ],
   "source": [
    "A = np.array([[34, -5.0300, 5.8090, 7.8320],\n",
    "               [2.2660, 19.950,  1.2120, 8.0080],\n",
    "               [8.8500, 5.6810,  455.20, 1.3020],\n",
    "               [6.7750, -2.253,  2.9080, 3.9700]])\n",
    "\n",
    "b = np.transpose([9.5740, 7.2190, 5.7300, 6.2910])\n",
    "\n",
    "print(np.linalg.solve(A,b))\n",
    "omega = find_best_omega(A,b)\n",
    "print(omega)\n",
    "print(sor_solve(A,b, omega))"
   ]
  },
  {
   "cell_type": "markdown",
   "metadata": {},
   "source": [
    "### Zadanie 4.\n",
    "Dla powyższych metod porównać (na wykresie) tempo zbiegania do rozwiązania.\n",
    "\n",
    "### Pytanie\n",
    "Jakie jest kryterium zbieżności metod powyżej? Czy zawsze można je stosować?\n",
    "\n",
    "#### Bonus:\n",
    "Jak przeklejać piękne wzory z Wikipedii i się przy tym nie namęczyć? (na zajęciach)."
   ]
  },
  {
   "cell_type": "code",
   "execution_count": 108,
   "metadata": {
    "ExecuteTime": {
     "end_time": "2019-04-06T17:58:43.485041Z",
     "start_time": "2019-04-06T17:58:43.401290Z"
    }
   },
   "outputs": [],
   "source": [
    "def jacobi_generator(A: np.array, b: np.array):\n",
    "    iteration_limit = 100\n",
    "    eps = 1e-20\n",
    "    n = len(b)\n",
    "    if A.shape[0] != A.shape[1] or A.shape[0] != n: raise ValueError(\"Matrix A must be square, of size equal to b length\")\n",
    "    prev_x = np.zeros(n)\n",
    "    x = np.zeros(n)\n",
    "    for k in range(iteration_limit):\n",
    "        for i in range(n):\n",
    "            x[i] = b[i]\n",
    "            for j in range(n):\n",
    "                if j != i:\n",
    "                    x[i] -= A[i][j] * prev_x[j]\n",
    "            x[i] /= A[i][i]\n",
    "        if np.all([np.abs(x[i] - prev_x[i]) < eps for i in range(n)]):\n",
    "            return x,k\n",
    "        prev_x = np.copy(x)\n",
    "        yield x\n",
    "    return x, 100\n",
    "\n",
    "def gauss_seidel_generator(A: np.array, b: np.array):\n",
    "    iteration_limit = 100\n",
    "    eps = 1e-20    \n",
    "    n = len(b)\n",
    "    if A.shape[0] != A.shape[1] or A.shape[0] != n: raise ValueError(\"Matrix A must be square, of size equal to b length\")\n",
    "    prev_x = np.zeros(n)\n",
    "    x = np.zeros(n)\n",
    "    for k in range(iteration_limit):\n",
    "        for i in range(n):\n",
    "            x[i] = b[i]\n",
    "            for j in range(i):\n",
    "                x[i] -= A[i][j] * x[j]\n",
    "            for j in range(i+1, n):\n",
    "                x[i] -= A[i][j] * prev_x[j]\n",
    "            x[i] /= A[i][i]\n",
    "        if np.all([np.abs(x[i] - prev_x[i]) < eps for i in range(n)]):\n",
    "            return x, k\n",
    "        prev_x = np.copy(x)\n",
    "        yield x\n",
    "    return x, 100\n",
    "\n",
    "def sor_generator(A: np.array, b: np.array, omega: float = 1.0):\n",
    "    iteration_limit = 100\n",
    "    eps = 1e-20    \n",
    "    n = len(b)\n",
    "    if A.shape[0] != A.shape[1] or A.shape[0] != n: raise ValueError(\"Matrix A must be square, of size equal to b length\")\n",
    "    if not .0 <= omega <= 2.0: raise ValueError(\"Appropriate omega should be between 0 and 2q\")\n",
    "    prev_x = np.zeros(n)\n",
    "    x = np.zeros(n)\n",
    "    for k in range(iteration_limit):\n",
    "        for i in range(n):\n",
    "            x[i] = b[i]\n",
    "            for j in range(i):\n",
    "                x[i] -= A[i][j] * x[j]\n",
    "            for j in range(i+1, n):\n",
    "                x[i] -= A[i][j] * prev_x[j]\n",
    "            x[i] = x[i]*omega/A[i][i] + (1-omega)*prev_x[i]\n",
    "        if np.all([np.abs(x[i] - prev_x[i]) < eps for i in range(n)]):\n",
    "            return x, k\n",
    "        yield x\n",
    "        prev_x = np.copy(x)\n",
    "    return x, 100"
   ]
  },
  {
   "cell_type": "code",
   "execution_count": 134,
   "metadata": {
    "ExecuteTime": {
     "end_time": "2019-04-06T18:23:04.628964Z",
     "start_time": "2019-04-06T18:23:03.559486Z"
    }
   },
   "outputs": [
    {
     "data": {
      "image/png": "[encoded data removed]",
      "text/plain": [
       "<Figure size 720x504 with 1 Axes>"
      ]
     },
     "metadata": {
      "needs_background": "light"
     },
     "output_type": "display_data"
    }
   ],
   "source": [
    "import matplotlib.pyplot as plt\n",
    "\n",
    "A = np.array([[34, -5.0300, 5.8090, 7.8320],\n",
    "               [2.2660, 19.950,  1.2120, 8.0080],\n",
    "               [8.8500, 5.6810,  455.20, 1.3020],\n",
    "               [6.7750, -2.253,  2.9080, 3.9700]])\n",
    "\n",
    "b = np.transpose([9.5740, 7.2190, 5.7300, 6.2910])\n",
    "x = np.linalg.solve(A, b)\n",
    "\n",
    "jac = [np.linalg.norm(y - x) for y in jacobi_generator(A,b)]\n",
    "gs = [np.linalg.norm(y - x) for y in gauss_seidel_generator(A,b)]\n",
    "omega = find_best_omega(A, b)\n",
    "sor = [np.linalg.norm(y - x) for y in sor_generator(A,b, omega)]\n",
    "\n",
    "plt.close()\n",
    "plt.figure(figsize=(10,7))\n",
    "plt.plot(jac, label='Jacobi convergence')\n",
    "plt.plot(gs, label='Gauss-Seidel convergence')\n",
    "plt.plot(sor, label='SOR convergence')\n",
    "plt.ylabel('Distance from correct (numpy) solution')\n",
    "plt.xlabel('Iteration')\n",
    "plt.legend(bbox_to_anchor=(1.05, 1), loc=2, borderaxespad=0.)\n",
    "plt.xlim(-0.1,10)\n",
    "plt.show()"
   ]
  },
  {
   "cell_type": "code",
   "execution_count": null,
   "metadata": {},
   "outputs": [],
   "source": []
  },
  {
   "cell_type": "code",
   "execution_count": null,
   "metadata": {},
   "outputs": [],
   "source": []
  }
 ],
 "metadata": {
  "kernelspec": {
   "display_name": "Python 3",
   "language": "python",
   "name": "python3"
  },
  "language_info": {
   "codemirror_mode": {
    "name": "ipython",
    "version": 3
   },
   "file_extension": ".py",
   "mimetype": "text/x-python",
   "name": "python",
   "nbconvert_exporter": "python",
   "pygments_lexer": "ipython3",
   "version": "3.6.7"
  },
  "varInspector": {
   "cols": {
    "lenName": 16,
    "lenType": 16,
    "lenVar": 40
   },
   "kernels_config": {
    "python": {
     "delete_cmd_postfix": "",
     "delete_cmd_prefix": "del ",
     "library": "var_list.py",
     "varRefreshCmd": "print(var_dic_list())"
    },
    "r": {
     "delete_cmd_postfix": ") ",
     "delete_cmd_prefix": "rm(",
     "library": "var_list.r",
     "varRefreshCmd": "cat(var_dic_list()) "
    }
   },
   "types_to_exclude": [
    "module",
    "function",
    "builtin_function_or_method",
    "instance",
    "_Feature"
   ],
   "window_display": false
  }
 },
 "nbformat": 4,
 "nbformat_minor": 2
}
