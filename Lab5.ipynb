{
 "cells": [
  {
   "cell_type": "markdown",
   "metadata": {},
   "source": [
    "# Regresja liniowa (aproksymacja średniokwadratowa)\n",
    "\n",
    "* Czytanka: Kincaid, Cheney rozdz. 12 (\"Smoothing of data and the method of least squares.\"), str. 495\n",
    "* [Fajny tutorial od podstaw](https://machinelearningmastery.com/simple-linear-regression-tutorial-for-machine-learning/)\n",
    "* [Kontynuacja tegoż tutorialu](https://machinelearningmastery.com/implement-simple-linear-regression-scratch-python/)\n",
    "\n",
    "#### Pytania:\n",
    "* po co się stosuje regresję liniową?\n",
    "* w jakich problemach/dziedzinach jest przydatna?\n",
    "* (*) na co trzeba uważać?\n",
    "\n",
    "### Krótkie objaśnienie\n",
    "Mając jakieś dane niejednokrotnie potrzebujemy je \"wyjaśnić\", tj. znaleźć model matematyczny, który w wygodny sposób opisze te dane. Celem jest łatwiejsza analiza, kompresja, predykcja, etc. W szczególności, wiele danych wykazuje pewną liniowość: dla uproszczenia zajmiemy się funkcjami `R -> R` (np. zależność ceny domu od jego powierzchni), ale oczywiście regresja liniowa zadziała też dla danych o większej ilości wymiarów.\n",
    "\n",
    "Ogólna zasada: mamy dany zbiór punktów `{(x_i, y_i)}`, chcemy znaleźć takie parametry `a` i `b`, żeby funkcja `y = f(x) = ax + b` jak najlepiej przybliżała nasze dane.\n",
    "\n",
    "Co to znaczy, że funkcja \"dobrze przybliża dane\"? Bardzo intuicyjnie: oznacza to, że jeśli porównamy faktyczne wartości w punktach `y_i` z wartościamy naszej funkcji `f`, to w sumie powinny dawać możliwie mały błąd. Warto zaznaczyć: funkcji błędu można wybrać parę, między innymi:\n",
    "* sumę wartości bezwzględnych różnic pomiędzy `y_i`, a `f(x_i)`\n",
    "* sumę kwadratów różnic pomiędzy `y_i`, a `f(x_i)`\n",
    "Z przyczyn matematyczno-techicznych wybierzemy tą drugą funkcję (między innymi jest łatwo i niezawodnie różniczkowalna :)).\n",
    "\n",
    "#### Pytania (c.d.):\n",
    "* czemu umawiamy się na konkretny, bardzo prosty model, i staramy się minimalizować błąd? Czy nie lepiej zastosować model, który dokładniej opisze dane? Przecież możemy dobrać modele, które dużo lepiej dopasują się do danych, niż linia prosta...\n",
    "\n",
    "### Zadanie 1.\n",
    "Napisz funkcję liczącą błąd średniokwadratowy. Na wejściu musi dostawać dwie tablice/dwa wektory równej długości, a na wyjściu ma zwracać sumę kwadratów różnic pomiędzy kolejnymi elementami tych wektorów."
   ]
  },
  {
   "cell_type": "code",
   "execution_count": null,
   "metadata": {
    "collapsed": true
   },
   "outputs": [],
   "source": [
    "from typing import List\n",
    "\n",
    "def rmse(x: List[float], y: List[float]) -> float:\n",
    "    pass"
   ]
  },
  {
   "cell_type": "markdown",
   "metadata": {},
   "source": [
    "### Zadanie 2.\n",
    "\n",
    "Napisz funkcję pobierającą wektor par floatów lub dwa wektory floatów i zwracającą parametry a i b prostej o równaniu `y = ax + b`, będącej najlepszą aproksymacją tych punktów.\n",
    "\n",
    "W przypadku opcji z wektorem par, kolejne pary traktujemy jako `x_i` i `y_i` opisane powyżej. W przypadku wyboru dwóch wektorów, traktujemy je jako wektory `x` i `y`."
   ]
  },
  {
   "cell_type": "code",
   "execution_count": null,
   "metadata": {
    "collapsed": true
   },
   "outputs": [],
   "source": [
    "from typing import Tuple\n",
    "\n",
    "def lin_reg(data: List[Tuple[float, float]]) -> Tuple[float, float]:\n",
    "    pass\n",
    "\n",
    "# ewentualnie:\n",
    "# def lin_reg(xs: List[float], ys: List[float]) -> Tuple[float, float]:\n",
    "#     pass"
   ]
  },
  {
   "cell_type": "markdown",
   "metadata": {},
   "source": [
    "### Zadanie 3.\n",
    "\n",
    "Napisz klasę enkapsulującą model regresji liniowej. Klasa powinna mieć metody:\n",
    "* `fit`, przyjmującą punkty, do których będziemy dopasowywać model (sygnatura taka, jak metoda `lin_reg`)\n",
    "* `predict`, przyjmująca wektor floatów (tylko współrzędna x) i zwracającą predykcje naszego modelu dla tych danych wejściowych\n",
    "* pole `coeffs`, zwracają współczynniki prostej, którą dopasowywaliśmy"
   ]
  },
  {
   "cell_type": "code",
   "execution_count": null,
   "metadata": {
    "collapsed": true
   },
   "outputs": [],
   "source": [
    "from typing import List, Tuple, Optional\n",
    "\n",
    "class LinearRegressor():\n",
    "    def __init__(self):\n",
    "        self._coeffs = None   # type: Optional[Tuple[float, float]]\n",
    "    \n",
    "    def fit(self, x: List[float], y: List[float]) -> None:\n",
    "        pass\n",
    "\n",
    "    def predict(self, x: List[float]) -> List[float]:\n",
    "        pass\n",
    "\n",
    "    @property\n",
    "    def coeffs(self) -> Tuple[float, float]:\n",
    "        if self._coeffs is None:\n",
    "            raise Exception('You need to call `fit` on the model first.')\n",
    "        \n",
    "        return self._coeffs"
   ]
  },
  {
   "cell_type": "markdown",
   "metadata": {},
   "source": [
    "### Zadanie 4.\n",
    "\n",
    "Przetestuj powyższą klasę używając prawdziwych danych (dopasowując model na danych, następnie licząc błąd średniokwadratowy pomiędzy predykcjami modelu a prawdziwymi danymi).\n",
    "\n",
    "Przykładowo, mogą to być dane o szwedzkim rynku ubezpieczeń samochodowych, dostępne [tutaj](https://www.math.muni.cz/~kolacek/docs/frvs/M7222/data/AutoInsurSweden.txt)."
   ]
  },
  {
   "cell_type": "markdown",
   "metadata": {},
   "source": [
    "### Zadanie 5.\n",
    "\n",
    "Napisz funkcję, która będzie potrafiła narysować wykres danych i dopasowanej do nich prostej, używając klasy `LinearRegressor` do stworzenia modelu."
   ]
  },
  {
   "cell_type": "code",
   "execution_count": null,
   "metadata": {
    "collapsed": true
   },
   "outputs": [],
   "source": [
    "def plot_data(x: List[float], y: List[float]) -> None:\n",
    "    pass"
   ]
  }
 ],
 "metadata": {
  "kernelspec": {
   "display_name": "Python 3",
   "language": "python",
   "name": "python3"
  },
  "language_info": {
   "codemirror_mode": {
    "name": "ipython",
    "version": 3
   },
   "file_extension": ".py",
   "mimetype": "text/x-python",
   "name": "python",
   "nbconvert_exporter": "python",
   "pygments_lexer": "ipython3",
   "version": "3.7.2"
  },
  "varInspector": {
   "cols": {
    "lenName": 16,
    "lenType": 16,
    "lenVar": 40
   },
   "kernels_config": {
    "python": {
     "delete_cmd_postfix": "",
     "delete_cmd_prefix": "del ",
     "library": "var_list.py",
     "varRefreshCmd": "print(var_dic_list())"
    },
    "r": {
     "delete_cmd_postfix": ") ",
     "delete_cmd_prefix": "rm(",
     "library": "var_list.r",
     "varRefreshCmd": "cat(var_dic_list()) "
    }
   },
   "types_to_exclude": [
    "module",
    "function",
    "builtin_function_or_method",
    "instance",
    "_Feature"
   ],
   "window_display": false
  }
 },
 "nbformat": 4,
 "nbformat_minor": 2
}
