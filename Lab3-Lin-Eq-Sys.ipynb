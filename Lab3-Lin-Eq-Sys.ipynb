{
 "cells": [
  {
   "cell_type": "markdown",
   "metadata": {},
   "source": [
    "# Układy równań liniowych\n",
    "\n",
    "### Pojęcia warte poznania\n",
    "\n",
    "* Układ równań liniowych: https://pl.wikipedia.org/wiki/Układ_równań_liniowych\n",
    "* Rząd macierzy: https://pl.wikipedia.org/wiki/Rząd_macierzy\n",
    "* Kombinacja liniowa: https://pl.wikipedia.org/wiki/Kombinacja_liniowa\n",
    "* Eliminacja Gaussa: https://pl.wikipedia.org/wiki/Metoda_eliminacji_Gaussa, Kincaid-Cheney_*_ str. 245, pełny pseudokod: str. 252\n",
    "* Pivoting: https://en.wikipedia.org/wiki/Pivot_element#Partial_and_complete_pivoting, K.C. str. 261, pełny pseudokod: str. 267\n",
    "* Norma wektora: https://pl.wikipedia.org/wiki/Przestrze%C5%84_unormowana, K.C. str. 320\n",
    "* Norma macierzy: https://pl.wikipedia.org/wiki/Norma_macierzowa\n",
    "* Macierz dodatnio określona: https://pl.wikipedia.org/wiki/Określoność_formy\n",
    "* Faktoryzacja LU: https://pl.wikipedia.org/wiki/Metoda_LU, K.C. str. 294\n",
    "* Faktoryzacja Cholesky'ego: https://pl.wikipedia.org/wiki/Rozkład_Choleskiego, K.C. str. 305\n",
    "\n",
    "Dodatkowo:\n",
    "* Wskaźnik uwarunkowania: https://pl.wikipedia.org/wiki/Wska%C5%BAnik_uwarunkowania, K.C. str.321\n",
    "* Metoda Jacobiego: https://en.wikipedia.org/wiki/Jacobi_method, K.C. 323\n",
    "\n",
    "Książka dla wytrwałych (naprawdę): Y. Saad \"Iterative Methods for Sparse Linear Systems\""
   ]
  },
  {
   "cell_type": "code",
   "execution_count": 2,
   "metadata": {
    "ExecuteTime": {
     "end_time": "2019-03-26T22:44:43.295717Z",
     "start_time": "2019-03-26T22:44:40.730715Z"
    }
   },
   "outputs": [
    {
     "name": "stdout",
     "output_type": "stream",
     "text": [
      "Pixiedust database opened successfully\n"
     ]
    },
    {
     "data": {
      "text/html": [
       "\n",
       "        <div style=\"margin:10px\">\n",
       "            <a href=\"https://github.com/ibm-watson-data-lab/pixiedust\" target=\"_new\">\n",
       "                <img src=\"https://github.com/ibm-watson-data-lab/pixiedust/raw/master/docs/_static/pd_icon32.png\" style=\"float:left;margin-right:10px\"/>\n",
       "            </a>\n",
       "            <span>Pixiedust version 1.1.15</span>\n",
       "        </div>\n",
       "        "
      ],
      "text/plain": [
       "<IPython.core.display.HTML object>"
      ]
     },
     "metadata": {},
     "output_type": "display_data"
    }
   ],
   "source": [
    "from typing import Optional, Tuple\n",
    "import numpy as np\n",
    "import pixiedust\n",
    "import itertools\n",
    "from copy import deepcopy"
   ]
  },
  {
   "cell_type": "markdown",
   "metadata": {},
   "source": [
    "### Zadanie rozgrzewkowe:\n",
    "Napisać mnożenie macierzy w ulubionym_\\**_ języku programowania.\n",
    "\n",
    "**Pytanko:** jakie muszą być wymiary mnożonych macierzy? (Który wymiar musi się \"zgadzać\"?)\n",
    "\n",
    "**Zadanko:** Uzupełnić brakujące wymiary macierzy w docstringu (z dokładnością do [\"alfa-konwersji\"](https://pl.wikipedia.org/wiki/Konwersja_α))"
   ]
  },
  {
   "cell_type": "code",
   "execution_count": 3,
   "metadata": {
    "ExecuteTime": {
     "end_time": "2019-03-26T22:44:43.320790Z",
     "start_time": "2019-03-26T22:44:43.312544Z"
    },
    "pixiedust": {
     "displayParams": {}
    }
   },
   "outputs": [],
   "source": [
    "def agh_superfast_matrix_multiply(a: np.array, b: np.array) -> np.array:\n",
    "    \"\"\"Perform totally ordinary multiplication of matrices.\n",
    "    Using np.arrays since matrices are deprecated\n",
    "    :param a: matrix with dimensions M by N\n",
    "    :param b: matrix with dimensions N by O\n",
    "    :return:  matrix with dimensions M by O\n",
    "    \"\"\"\n",
    "    M, N = a.shape\n",
    "    X, O = b.shape\n",
    "    if N != X: raise ValueError(\"Matrices must be properly shaped\")\n",
    "    result = np.zeros((M, O))\n",
    "    for i in range(M):\n",
    "        for j in range(O):\n",
    "            acc: np.float128 = .0\n",
    "            for k in range(N):\n",
    "                acc += a[i][k] * b[k][j]\n",
    "            result[i][j] = acc\n",
    "    return result\n",
    "\n",
    "m1 = np.array([[1, 2],\n",
    "                [3, 4],\n",
    "                [4, 5],\n",
    "                [5, 1]])\n",
    "\n",
    "m2 = np.array([[1, 2, 3],\n",
    "                [4, 5, 6]])\n",
    "\n",
    "res = agh_superfast_matrix_multiply(m1, m2)\n",
    "assert np.allclose(res, np.matmul(m1, m2)), \"Wrong multiplication result\"\n"
   ]
  },
  {
   "cell_type": "markdown",
   "metadata": {},
   "source": [
    "### Zadania\n",
    "1. Przeczytać rozdz. 7. Kincaida i Cheney'a (Systems of Linear Equations).\n",
    "2. Przeczytać rozdz. 8. Kincaida i Cheney'a (Additional Topics Concerning Systems of Linear Equations).\n",
    "3. Napisać kod (w ulubionym_\\**_ języku) do eliminacji Gaussa z i bez pivotingu.\n",
    "4. Rozwiązać poniższy układ równań z pivotingiem i bez, porównać wyniki:"
   ]
  },
  {
   "cell_type": "code",
   "execution_count": 4,
   "metadata": {
    "ExecuteTime": {
     "end_time": "2019-03-26T22:45:55.292095Z",
     "start_time": "2019-03-26T22:45:55.280518Z"
    }
   },
   "outputs": [],
   "source": [
    "def gaussian_elimination(A: np.array, b: np.array) -> np.array:\n",
    "    if A.shape[0] != A.shape[1]: raise ValueError(\"Matrix A must be square\")\n",
    "    n:int = len(A)\n",
    "    for i in range(n - 1):\n",
    "        for j in range(i + 1, n):\n",
    "            row_factor = A[j][i]/A[i][i]\n",
    "            A[j][i] = .0\n",
    "            for k in range(i + 1, n):\n",
    "                A[j][k] -= row_factor * A[i][k]\n",
    "            b[j] -= row_factor * b[i]\n",
    "\n",
    "    for i in range(n - 1, -1, -1):\n",
    "        for j in range(i + 1, n):\n",
    "            b[i] -= A[i][j] * b[j]\n",
    "        b[i] *= 1.0/A[i][i]\n",
    "    return b"
   ]
  },
  {
   "cell_type": "code",
   "execution_count": 5,
   "metadata": {
    "ExecuteTime": {
     "end_time": "2019-03-26T22:45:55.885844Z",
     "start_time": "2019-03-26T22:45:55.873373Z"
    }
   },
   "outputs": [],
   "source": [
    "def gauss_with_spp(A: np.array, b: np.array) -> np.array:\n",
    "    \"\"\"\n",
    "    Gaussian elimination with scaled partial pivoting\n",
    "    \"\"\"\n",
    "    if A.shape[0] != A.shape[1]: raise ValueError(\"Matrix A must be square\")\n",
    "    n:int = len(A)\n",
    "    scale: np.array = np.zeros(n)\n",
    "    for i,j in itertools.product(range(n), range(n)):\n",
    "        scale[i] = max(scale[i], np.abs(A[i][j]))\n",
    "    ind: np.array = np.arange(n)\n",
    "    for i in range(n - 1):\n",
    "        max_ratio: np.float32 = .0\n",
    "        pivot = i\n",
    "        for j in range(i,n):\n",
    "            if np.abs(A[ind[j], i]) / scale[ind[j]] > max_ratio:\n",
    "                max_ratio = np.abs(A[ind[j], i]) / scale[ind[j]]\n",
    "                pivot = j\n",
    "        ind[i], ind[pivot] = ind[pivot], ind[i]\n",
    "        for j in range(i + 1, n):\n",
    "            row_factor = - A[ind[j], i] / A[ind[i], i]\n",
    "            A[ind[j], i] = .0\n",
    "            for k in range(i+1, n):\n",
    "                A[ind[j], k] += row_factor * A[ind[i], k]\n",
    "            b[ind[j]] += row_factor * b[ind[i]]\n",
    "\n",
    "    for i in range(n-1, -1, -1):\n",
    "        for j in range(i + 1, n):\n",
    "            b[ind[i]] -= A[ind[i], j] * b[ind[j]]\n",
    "        b[ind[i]] /= A[ind[i], i]\n",
    "    result = np.zeros(n)\n",
    "    for i in range(n):\n",
    "        result[i] = b[ind[i]]\n",
    "    return result"
   ]
  },
  {
   "cell_type": "code",
   "execution_count": 6,
   "metadata": {
    "ExecuteTime": {
     "end_time": "2019-03-26T22:45:57.184551Z",
     "start_time": "2019-03-26T22:45:57.171069Z"
    }
   },
   "outputs": [],
   "source": [
    "# %%pixie_debugger\n",
    "A = np.array([[0.0001, -5.0300, 5.8090, 7.8320],\n",
    "               [2.2660, 1.9950,  1.2120, 8.0080],\n",
    "               [8.8500, 5.6810,  4.5520, 1.3020],\n",
    "               [6.7750, -2.253,  2.9080, 3.9700]])\n",
    "\n",
    "b = np.transpose([9.5740, 7.2190, 5.7300, 6.2910])\n",
    "\n",
    "x0 = np.linalg.solve(deepcopy(A), np.copy(b))\n",
    "x1 = gaussian_elimination(deepcopy(A), np.copy(b))\n",
    "x = gauss_with_spp(deepcopy(A), np.copy(b))"
   ]
  },
  {
   "cell_type": "markdown",
   "metadata": {},
   "source": [
    "**Pytanie**: dlaczego wołamy `transpose()` na wektorze `b`?\n",
    "\n",
    "Sprawdźmy, czy rozwiązanie jest ok (**Pytanie'**: dlaczego po prostu nie użyjemy `==` lub jakiegoś `equals`?):"
   ]
  },
  {
   "cell_type": "code",
   "execution_count": 7,
   "metadata": {
    "ExecuteTime": {
     "end_time": "2019-03-26T22:46:04.732703Z",
     "start_time": "2019-03-26T22:46:04.727826Z"
    }
   },
   "outputs": [
    {
     "name": "stdout",
     "output_type": "stream",
     "text": [
      "True\n",
      "True\n",
      "True\n"
     ]
    }
   ],
   "source": [
    "print(np.allclose(np.dot(A, x), b))\n",
    "print(np.allclose(np.dot(A, x1), b))\n",
    "print(np.allclose(x1, x0))"
   ]
  },
  {
   "cell_type": "markdown",
   "metadata": {},
   "source": [
    "### Zadania, c.d.\n",
    "\n",
    "5. Zaimplementować algorytm faktoryzacji LU macierzy\n",
    "6. (*) Zaimplementować funkcję sprawdzającą, czy dana macierz jest symetryczna i dodatnio określona\n",
    "7. Zaimplementować algorytm faktoryzacji Cholesky'ego macierzy"
   ]
  },
  {
   "cell_type": "code",
   "execution_count": 27,
   "metadata": {
    "ExecuteTime": {
     "end_time": "2019-03-26T23:28:11.523555Z",
     "start_time": "2019-03-26T23:28:11.509353Z"
    }
   },
   "outputs": [],
   "source": [
    "def agh_superfast_lu(A: np.array) -> Optional[Tuple[np.array, np.array]]:\n",
    "    \"\"\"Perform LU decomposition of a matrix.\n",
    "    \n",
    "    :param a: LU-decomposable matrix (without row swapping)\n",
    "    :return:  Tuple of L and U matrices\n",
    "    \"\"\"\n",
    "    if A.shape[0] != A.shape[1]: raise ValueError(\"Matrix A must be square\")\n",
    "    n = len(A)\n",
    "    L = np.zeros((n,n))\n",
    "    U = deepcopy(A)\n",
    "    for i in range(n - 1):\n",
    "        L[i][i] = 1.0\n",
    "        for j in range(i + 1, n):\n",
    "            if U[i][i] == 0: raise ValueError(\"Matrix is not LU - decomposable\")\n",
    "            row_factor = U[j][i]/U[i][i]\n",
    "            U[j][i] = .0\n",
    "            L[j][i] = row_factor\n",
    "            for k in range(i + 1, n):\n",
    "                U[j][k] -= row_factor * U[i][k]\n",
    "    L[n-1][n-1] = 1.0\n",
    "    return L,U\n",
    "    \n",
    "def agh_superfast_check_spd(A: np.array) -> bool:\n",
    "    \"\"\"Check whether a matrix is symmetric and positive-definite (SPD).\n",
    "    \"\"\"\n",
    "    return np.allclose(np.transpose(A), A) and np.all(np.linalg.eigvals(A) > 0)\n",
    "    \n",
    "\n",
    "def agh_superfast_cholesky(A: np.array) -> Optional[np.array]:\n",
    "    \"\"\"Perform a Cholesky decomposition of a matrix.\n",
    "    \n",
    "    :param A: Symetric and positively defined matrix\n",
    "    :return:  L matrix such that L*L^-1 == A\n",
    "    \"\"\"\n",
    "    if not agh_superfast_check_spd(A): raise ValueError(\"Matrix A must be symetric and positively defined\")\n",
    "    n = len(A)\n",
    "    L = np.zeros((n,n))\n",
    "    for i in range(n):\n",
    "        for j in range(i):\n",
    "            L[i][j] = A[i][j]\n",
    "            for k in range(j):\n",
    "                L[i][j] -= L[i][k] * L[j][k]\n",
    "            L[i][j] /= L[j][j]\n",
    "        L[i][i] = A[i][i]\n",
    "        for k in range(i):\n",
    "            L[i][i] -= L[i][k]*L[i][k]\n",
    "        L[i][i] = np.sqrt(L[i][i])\n",
    "    return L"
   ]
  },
  {
   "cell_type": "code",
   "execution_count": 29,
   "metadata": {
    "ExecuteTime": {
     "end_time": "2019-03-26T23:29:10.633464Z",
     "start_time": "2019-03-26T23:29:10.619501Z"
    }
   },
   "outputs": [
    {
     "name": "stdout",
     "output_type": "stream",
     "text": [
      "True\n",
      "True\n",
      "True\n"
     ]
    }
   ],
   "source": [
    "A = np.array([[0.0001, -5.0300, 5.8090, 7.8320],\n",
    "               [2.2660, 1.9950,  1.2120, 8.0080],\n",
    "               [8.8500, 5.6810,  4.5520, 1.3020],\n",
    "               [6.7750, -2.253,  2.9080, 3.9700]])\n",
    "\n",
    "B = np.array([[ 6,  3,  4,  8],\n",
    "               [ 3,  6,  5,  1],\n",
    "               [ 4,  5, 10,  7],\n",
    "               [ 8,  1,  7, 25]])\n",
    "\n",
    "L, U = agh_superfast_lu(A)\n",
    "print(np.allclose(A, np.dot(L,U)))\n",
    "print(agh_superfast_check_spd(B))\n",
    "C = agh_superfast_cholesky(B)\n",
    "print(np.allclose(B, np.dot(C, np.transpose(C))))"
   ]
  },
  {
   "cell_type": "markdown",
   "metadata": {},
   "source": [
    "### Zadania, opcjonalnie\n",
    "5. zaimplementować metodę Jacobiego (iteracyjne rozwiązywanie układu równań liniowych)\n",
    "6. za pomocą tejże metody rozwiązać powyższy układ równań\n",
    "\n",
    "// będą laby o tym, więc teraz nie robię"
   ]
  },
  {
   "cell_type": "markdown",
   "metadata": {},
   "source": [
    "\\*  wszystkie referencje odnoszą się do [książki](https://wiki.iiet.pl/lib/exe/fetch.php?media=studia:przedmioty:mownit:numerical_mathematics_and_computing.pdf) David Kincaid, Ward Cheney - \"Numerical Mathematics and Computing, 6th edition\"\n",
    "\\** _ulubiony_ język programowania staramy się pojmować rozsądnie, tj. z wyłączeniem języków pokroju Prologa, języków z [tej listy](https://en.wikipedia.org/wiki/Esoteric_programming_language) oraz Assemblera i PHP. Haskella można używać na własną odpowiedzialność."
   ]
  }
 ],
 "metadata": {
  "kernelspec": {
   "display_name": "Python 3",
   "language": "python",
   "name": "python3"
  },
  "language_info": {
   "codemirror_mode": {
    "name": "ipython",
    "version": 3
   },
   "file_extension": ".py",
   "mimetype": "text/x-python",
   "name": "python",
   "nbconvert_exporter": "python",
   "pygments_lexer": "ipython3",
   "version": "3.7.2"
  },
  "varInspector": {
   "cols": {
    "lenName": 16,
    "lenType": 16,
    "lenVar": 40
   },
   "kernels_config": {
    "python": {
     "delete_cmd_postfix": "",
     "delete_cmd_prefix": "del ",
     "library": "var_list.py",
     "varRefreshCmd": "print(var_dic_list())"
    },
    "r": {
     "delete_cmd_postfix": ") ",
     "delete_cmd_prefix": "rm(",
     "library": "var_list.r",
     "varRefreshCmd": "cat(var_dic_list()) "
    }
   },
   "types_to_exclude": [
    "module",
    "function",
    "builtin_function_or_method",
    "instance",
    "_Feature"
   ],
   "window_display": false
  }
 },
 "nbformat": 4,
 "nbformat_minor": 2
}
