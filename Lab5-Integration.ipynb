{
 "cells": [
  {
   "cell_type": "markdown",
   "metadata": {},
   "source": [
    "# Comparison of various numerical integration methods over runge function "
   ]
  },
  {
   "cell_type": "code",
   "execution_count": 19,
   "metadata": {
    "ExecuteTime": {
     "end_time": "2019-04-21T12:05:30.118920Z",
     "start_time": "2019-04-21T12:05:30.113847Z"
    }
   },
   "outputs": [],
   "source": [
    "import numpy as np\n",
    "import matplotlib.pyplot as plt\n",
    "import random\n",
    "from typing import Callable"
   ]
  },
  {
   "cell_type": "code",
   "execution_count": 20,
   "metadata": {
    "ExecuteTime": {
     "end_time": "2019-04-21T12:05:30.134461Z",
     "start_time": "2019-04-21T12:05:30.121981Z"
    }
   },
   "outputs": [],
   "source": [
    "def runge_fun(x):\n",
    "    return 1/(1 + 25 * x**2)"
   ]
  },
  {
   "cell_type": "markdown",
   "metadata": {},
   "source": [
    " Definite integral of runge_fun from -1 to 1, calculated manualy\n"
   ]
  },
  {
   "cell_type": "code",
   "execution_count": 21,
   "metadata": {
    "ExecuteTime": {
     "end_time": "2019-04-21T12:05:30.150227Z",
     "start_time": "2019-04-21T12:05:30.136723Z"
    }
   },
   "outputs": [],
   "source": [
    "actual_integral = 2 * np.arctan(5) * .2 "
   ]
  },
  {
   "cell_type": "code",
   "execution_count": 22,
   "metadata": {
    "ExecuteTime": {
     "end_time": "2019-04-21T12:05:30.320413Z",
     "start_time": "2019-04-21T12:05:30.152339Z"
    }
   },
   "outputs": [
    {
     "data": {
      "image/png": "[encoded data removed]",
      "text/plain": [
       "<Figure size 720x504 with 1 Axes>"
      ]
     },
     "metadata": {
      "needs_background": "light"
     },
     "output_type": "display_data"
    }
   ],
   "source": [
    "x_samples = np.linspace(-1, 1, 1024)\n",
    "y_samples = runge_fun(x_samples)\n",
    "\n",
    "plt.close()\n",
    "plt.figure(figsize=(10,7))\n",
    "plt.plot(x_samples, y_samples)\n",
    "plt.show()"
   ]
  },
  {
   "cell_type": "code",
   "execution_count": 23,
   "metadata": {
    "ExecuteTime": {
     "end_time": "2019-04-21T12:05:30.327710Z",
     "start_time": "2019-04-21T12:05:30.323185Z"
    }
   },
   "outputs": [],
   "source": [
    "def sampling_integration(fun: Callable[[float], float], left: float, right: float, n_samples: int = 10000) -> float:\n",
    "    samples = np.linspace(left, right, n_samples)\n",
    "    avg_val = np.mean(fun(samples))\n",
    "    return (right-left) * avg_val"
   ]
  },
  {
   "cell_type": "code",
   "execution_count": 24,
   "metadata": {
    "ExecuteTime": {
     "end_time": "2019-04-21T12:05:30.346114Z",
     "start_time": "2019-04-21T12:05:30.331262Z"
    }
   },
   "outputs": [],
   "source": [
    "def monte_carlo(fun: Callable[[float], float], left: float, right: float, n_samples: int = 10000, n: int = 100) -> float:\n",
    "    results = np.array([])\n",
    "    for i in range(n):\n",
    "        samples = np.random.uniform(left, right, n_samples)\n",
    "        avg_val = np.mean(fun(samples))\n",
    "        results = np.append(results, [(right-left) * avg_val], axis=0)\n",
    "    return np.mean(results)"
   ]
  },
  {
   "cell_type": "code",
   "execution_count": 25,
   "metadata": {
    "ExecuteTime": {
     "end_time": "2019-04-21T12:05:30.360106Z",
     "start_time": "2019-04-21T12:05:30.349715Z"
    }
   },
   "outputs": [],
   "source": [
    "def trapezoid_cubature(fun: Callable[[float], float], left: float, right: float, n_samples: int = 10000) -> float:\n",
    "    samples = np.linspace(left, right, n_samples)\n",
    "    integral = .0\n",
    "    for i in range(1, n_samples):\n",
    "        x1 = samples[i - 1]\n",
    "        x2 = samples[i]\n",
    "        integral += ( fun(x2) + fun(x1) ) * .5 * (x2 - x1)   \n",
    "    return integral"
   ]
  },
  {
   "cell_type": "code",
   "execution_count": 30,
   "metadata": {
    "ExecuteTime": {
     "end_time": "2019-04-21T12:07:36.701040Z",
     "start_time": "2019-04-21T12:07:36.693585Z"
    }
   },
   "outputs": [],
   "source": [
    "def simpson(fun: Callable[[float], float], left: float, right: float, n = 15000):\n",
    "    samples = np.linspace(left, right, n)\n",
    "    integral = .0\n",
    "    for i in range(2, n, 2):\n",
    "        x1 = samples[i - 2]\n",
    "        x2 = samples[i - 1]\n",
    "        x3 = samples[i]\n",
    "        integral += ((x2 - x1) / 3) * (fun(x1) + 4*fun(x2) + fun(x3))\n",
    "    return integral"
   ]
  },
  {
   "cell_type": "code",
   "execution_count": 37,
   "metadata": {
    "ExecuteTime": {
     "end_time": "2019-04-21T13:35:36.968458Z",
     "start_time": "2019-04-21T13:35:36.954700Z"
    }
   },
   "outputs": [],
   "source": [
    "def adaptive_simpson(fun: Callable[[float], float], left: float, right: float, eps = 1e-15, max_iter = 10000):\n",
    "    h = (right - left) / 2\n",
    "    stack = [(left, h, fun(left), fun(left + h), fun(left + 2*h), h*(fun(left) + 4*fun(left + h) + fun(left + 2*h)) / 3.0)]\n",
    "    result = .0\n",
    "    counter = 0\n",
    "    while stack:\n",
    "        counter += 1\n",
    "        l, h, fl, fm, fr, integral = stack.pop()\n",
    "        lm = l + h/2\n",
    "        flm = fun(lm)\n",
    "        lm_integral = h*(fl + flm * 4 + fm) / 6.0\n",
    "        rm = l + 3*h/2\n",
    "        frm = fun(rm)\n",
    "        rm_integral = h*(fm + frm * 4 + fr) / 6.0\n",
    "        error = lm_integral + rm_integral - integral\n",
    "        if np.abs(error) < 30 * eps * h / (right - left):\n",
    "            result += rm_integral + lm_integral + error / 15.0\n",
    "        else:\n",
    "            if counter > max_iter: raise ArithmeticError(\"Could not reach desired precision\")\n",
    "            stack.append((l, h/2.0, fl, flm, fm, lm_integral))\n",
    "            stack.append((l + h, h/2.0, fm, frm, fr, rm_integral))\n",
    "    return (result, counter)"
   ]
  },
  {
   "cell_type": "code",
   "execution_count": 50,
   "metadata": {
    "ExecuteTime": {
     "end_time": "2019-04-21T13:44:21.024686Z",
     "start_time": "2019-04-21T13:44:20.708818Z"
    }
   },
   "outputs": [
    {
     "name": "stdout",
     "output_type": "stream",
     "text": [
      "Sampling error:  4.7244216131447914e-05\n",
      "Monte Carlo error:  0.00010060622069785197\n",
      "Trapezoid error:  4.931928199169988e-10\n",
      "Simpson error:  5.129204663334441e-06\n",
      "Adaptive Simpson error: 5.440092820663267e-14, reached in 559 iteration\n"
     ]
    }
   ],
   "source": [
    "print(\"Sampling error: \", actual_integral - sampling_integration(runge_fun, -1, 1))\n",
    "print(\"Monte Carlo error: \", actual_integral - monte_carlo(runge_fun, -1, 1, n=1000))\n",
    "print(\"Trapezoid error: \", actual_integral - trapezoid_cubature(runge_fun, -1, 1))\n",
    "print(\"Simpson error: \", actual_integral - simpson(runge_fun, -1, 1))\n",
    "x, n = adaptive_simpson(runge_fun, -1, 1, eps=1e-10)\n",
    "print(f\"Adaptive Simpson error: {actual_integral - x}, reached in {n} iteration\")"
   ]
  },
  {
   "cell_type": "code",
   "execution_count": null,
   "metadata": {},
   "outputs": [],
   "source": []
  }
 ],
 "metadata": {
  "kernelspec": {
   "display_name": "Python 3",
   "language": "python",
   "name": "python3"
  },
  "language_info": {
   "codemirror_mode": {
    "name": "ipython",
    "version": 3
   },
   "file_extension": ".py",
   "mimetype": "text/x-python",
   "name": "python",
   "nbconvert_exporter": "python",
   "pygments_lexer": "ipython3",
   "version": "3.7.2"
  },
  "varInspector": {
   "cols": {
    "lenName": 16,
    "lenType": 16,
    "lenVar": 40
   },
   "kernels_config": {
    "python": {
     "delete_cmd_postfix": "",
     "delete_cmd_prefix": "del ",
     "library": "var_list.py",
     "varRefreshCmd": "print(var_dic_list())"
    },
    "r": {
     "delete_cmd_postfix": ") ",
     "delete_cmd_prefix": "rm(",
     "library": "var_list.r",
     "varRefreshCmd": "cat(var_dic_list()) "
    }
   },
   "types_to_exclude": [
    "module",
    "function",
    "builtin_function_or_method",
    "instance",
    "_Feature"
   ],
   "window_display": false
  }
 },
 "nbformat": 4,
 "nbformat_minor": 2
}
