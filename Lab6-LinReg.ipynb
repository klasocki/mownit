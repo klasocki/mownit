{
 "cells": [
  {
   "cell_type": "markdown",
   "metadata": {},
   "source": [
    "# Regresja liniowa (aproksymacja średniokwadratowa)\n",
    "\n",
    "* Czytanka: Kincaid, Cheney rozdz. 12 (\"Smoothing of data and the method of least squares.\"), str. 495\n",
    "* [Fajny tutorial od podstaw](https://machinelearningmastery.com/simple-linear-regression-tutorial-for-machine-learning/)\n",
    "* [Kontynuacja tegoż tutorialu](https://machinelearningmastery.com/implement-simple-linear-regression-scratch-python/)\n",
    "\n",
    "#### Pytania:\n",
    "* po co się stosuje regresję liniową?\n",
    "* w jakich problemach/dziedzinach jest przydatna?\n",
    "* (*) na co trzeba uważać?\n",
    "\n",
    "### Krótkie objaśnienie\n",
    "Mając jakieś dane niejednokrotnie potrzebujemy je \"wyjaśnić\", tj. znaleźć model matematyczny, który w wygodny sposób opisze te dane. Celem jest łatwiejsza analiza, kompresja, predykcja, etc. W szczególności, wiele danych wykazuje pewną liniowość: dla uproszczenia zajmiemy się funkcjami `R -> R` (np. zależność ceny domu od jego powierzchni), ale oczywiście regresja liniowa zadziała też dla danych o większej ilości wymiarów.\n",
    "\n",
    "Ogólna zasada: mamy dany zbiór punktów `{(x_i, y_i)}`, chcemy znaleźć takie parametry `a` i `b`, żeby funkcja `y = f(x) = ax + b` jak najlepiej przybliżała nasze dane.\n",
    "\n",
    "Co to znaczy, że funkcja \"dobrze przybliża dane\"? Bardzo intuicyjnie: oznacza to, że jeśli porównamy faktyczne wartości w punktach `y_i` z wartościamy naszej funkcji `f`, to w sumie powinny dawać możliwie mały błąd. Warto zaznaczyć: funkcji błędu można wybrać parę, między innymi:\n",
    "* sumę wartości bezwzględnych różnic pomiędzy `y_i`, a `f(x_i)`\n",
    "* sumę kwadratów różnic pomiędzy `y_i`, a `f(x_i)`\n",
    "Z przyczyn matematyczno-techicznych wybierzemy tą drugą funkcję (między innymi jest łatwo i niezawodnie różniczkowalna :)).\n",
    "\n",
    "#### Pytania (c.d.):\n",
    "* czemu umawiamy się na konkretny, bardzo prosty model, i staramy się minimalizować błąd? Czy nie lepiej zastosować model, który dokładniej opisze dane? Przecież możemy dobrać modele, które dużo lepiej dopasują się do danych, niż linia prosta...\n",
    "\n",
    "### Zadanie 1.\n",
    "Napisz funkcję liczącą błąd średniokwadratowy. Na wejściu musi dostawać dwie tablice/dwa wektory równej długości, a na wyjściu ma zwracać sumę kwadratów różnic pomiędzy kolejnymi elementami tych wektorów."
   ]
  },
  {
   "cell_type": "code",
   "execution_count": 1,
   "metadata": {
    "ExecuteTime": {
     "end_time": "2019-06-08T10:03:37.368010Z",
     "start_time": "2019-06-08T10:03:36.959917Z"
    }
   },
   "outputs": [],
   "source": [
    "from typing import List\n",
    "import numpy as np\n",
    "import pandas as pd\n",
    "\n",
    "def rmse(x: List[float], y: List[float]) -> float:\n",
    "    if len(x) != len(y): raise ValueError(\"Lists must be of same length\")\n",
    "    return np.mean([(x[i] - y[i]) ** 2 for i in range(len(x))])"
   ]
  },
  {
   "cell_type": "code",
   "execution_count": 7,
   "metadata": {
    "ExecuteTime": {
     "end_time": "2019-05-05T18:07:39.313654Z",
     "start_time": "2019-05-05T18:07:39.304139Z"
    }
   },
   "outputs": [
    {
     "data": {
      "text/plain": [
       "13.25"
      ]
     },
     "execution_count": 7,
     "metadata": {},
     "output_type": "execute_result"
    }
   ],
   "source": [
    "rmse([2, 3], [4.5, -1.5])"
   ]
  },
  {
   "cell_type": "markdown",
   "metadata": {},
   "source": [
    "### Zadanie 2.\n",
    "\n",
    "Napisz funkcję pobierającą wektor par floatów lub dwa wektory floatów i zwracającą parametry a i b prostej o równaniu `y = ax + b`, będącej najlepszą aproksymacją tych punktów.\n",
    "\n",
    "W przypadku opcji z wektorem par, kolejne pary traktujemy jako `x_i` i `y_i` opisane powyżej. W przypadku wyboru dwóch wektorów, traktujemy je jako wektory `x` i `y`."
   ]
  },
  {
   "cell_type": "code",
   "execution_count": 2,
   "metadata": {
    "ExecuteTime": {
     "end_time": "2019-06-08T10:03:41.253884Z",
     "start_time": "2019-06-08T10:03:41.240154Z"
    }
   },
   "outputs": [],
   "source": [
    "from typing import Tuple\n",
    "\n",
    "def lin_reg(xs: List[float], ys: List[float]) -> Tuple[float, float]:\n",
    "    x_mean = np.mean(xs)\n",
    "    y_mean = np.mean(ys)\n",
    "    a = sum((xs[i] - x_mean) * (ys[i] - y_mean) for i in range(len(xs)) ) / sum ((xs[i] - x_mean)**2 for i in range(len(xs)))\n",
    "    b = y_mean - a * x_mean\n",
    "    return (a, b)"
   ]
  },
  {
   "cell_type": "code",
   "execution_count": 9,
   "metadata": {
    "ExecuteTime": {
     "end_time": "2019-06-08T10:08:27.819661Z",
     "start_time": "2019-06-08T10:08:27.812762Z"
    }
   },
   "outputs": [
    {
     "data": {
      "text/plain": [
       "(2.0, 1.0)"
      ]
     },
     "execution_count": 9,
     "metadata": {},
     "output_type": "execute_result"
    }
   ],
   "source": [
    "lin_reg([2, 1, 3], [5, 3, 7])"
   ]
  },
  {
   "cell_type": "markdown",
   "metadata": {},
   "source": [
    "### Zadanie 3.\n",
    "\n",
    "Napisz klasę enkapsulującą model regresji liniowej. Klasa powinna mieć metody:\n",
    "* `fit`, przyjmującą punkty, do których będziemy dopasowywać model (sygnatura taka, jak metoda `lin_reg`)\n",
    "* `predict`, przyjmująca wektor floatów (tylko współrzędna x) i zwracającą predykcje naszego modelu dla tych danych wejściowych\n",
    "* pole `coeffs`, zwracają współczynniki prostej, którą dopasowywaliśmy"
   ]
  },
  {
   "cell_type": "code",
   "execution_count": 19,
   "metadata": {
    "ExecuteTime": {
     "end_time": "2019-06-08T10:22:35.923293Z",
     "start_time": "2019-06-08T10:22:35.909732Z"
    }
   },
   "outputs": [],
   "source": [
    "from typing import List, Tuple\n",
    "\n",
    "class LinearRegressor():\n",
    "    def __init__(self):\n",
    "        self._coeffs = None   # type: Optional[Tuple[float, float]]\n",
    "    \n",
    "    def fit(self, x: List[float], y: List[float]) -> None:\n",
    "        self._coeffs = lin_reg(x, y)\n",
    "\n",
    "    def predict(self, xs: List[float]) -> List[float]:\n",
    "        return [self._coeffs[0] * x + self._coeffs[1] for x in xs]\n",
    "\n",
    "    @property\n",
    "    def coeffs(self) -> Tuple[float, float]:\n",
    "        if self._coeffs is None:\n",
    "            raise Exception('You need to call `fit` on the model first.')\n",
    "        \n",
    "        return self._coeffs\n",
    "    "
   ]
  },
  {
   "cell_type": "markdown",
   "metadata": {},
   "source": [
    "### Zadanie 4.\n",
    "\n",
    "Przetestuj powyższą klasę używając prawdziwych danych (dopasowując model na danych, następnie licząc błąd średniokwadratowy pomiędzy predykcjami modelu a prawdziwymi danymi).\n",
    "\n",
    "Przykładowo, mogą to być dane o szwedzkim rynku ubezpieczeń samochodowych, dostępne [tutaj](https://www.math.muni.cz/~kolacek/docs/frvs/M7222/data/AutoInsurSweden.txt)."
   ]
  },
  {
   "cell_type": "code",
   "execution_count": 5,
   "metadata": {
    "ExecuteTime": {
     "end_time": "2019-06-08T10:07:09.753266Z",
     "start_time": "2019-06-08T10:07:09.680709Z"
    }
   },
   "outputs": [],
   "source": [
    "data = pd.read_csv('data/train.csv')"
   ]
  },
  {
   "cell_type": "code",
   "execution_count": 6,
   "metadata": {
    "ExecuteTime": {
     "end_time": "2019-06-08T10:07:32.991041Z",
     "start_time": "2019-06-08T10:07:32.986321Z"
    }
   },
   "outputs": [],
   "source": [
    "x = data['GrLivArea']\n",
    "y = data['SalePrice']"
   ]
  },
  {
   "cell_type": "code",
   "execution_count": 21,
   "metadata": {
    "ExecuteTime": {
     "end_time": "2019-06-08T10:22:41.847792Z",
     "start_time": "2019-06-08T10:22:41.730995Z"
    }
   },
   "outputs": [
    {
     "data": {
      "text/plain": [
       "(107.13035896582502, 18569.025856487482)"
      ]
     },
     "execution_count": 21,
     "metadata": {},
     "output_type": "execute_result"
    }
   ],
   "source": [
    "reg = LinearRegressor()\n",
    "reg.fit(x, y)\n",
    "reg.coeffs"
   ]
  },
  {
   "cell_type": "code",
   "execution_count": 28,
   "metadata": {
    "ExecuteTime": {
     "end_time": "2019-06-08T10:24:38.111865Z",
     "start_time": "2019-06-08T10:24:38.103096Z"
    }
   },
   "outputs": [
    {
     "name": "stdout",
     "output_type": "stream",
     "text": [
      "143000 [164480.57476794117]\n"
     ]
    }
   ],
   "source": [
    "print(y[5], reg.predict([x[5]]))"
   ]
  },
  {
   "cell_type": "markdown",
   "metadata": {},
   "source": [
    "### Zadanie 5.\n",
    "\n",
    "Napisz funkcję, która będzie potrafiła narysować wykres danych i dopasowanej do nich prostej, używając klasy `LinearRegressor` do stworzenia modelu."
   ]
  },
  {
   "cell_type": "code",
   "execution_count": 31,
   "metadata": {
    "ExecuteTime": {
     "end_time": "2019-06-08T10:35:52.122685Z",
     "start_time": "2019-06-08T10:35:50.991968Z"
    }
   },
   "outputs": [],
   "source": [
    "import matplotlib.pyplot as plt"
   ]
  },
  {
   "cell_type": "code",
   "execution_count": 46,
   "metadata": {
    "ExecuteTime": {
     "end_time": "2019-06-08T10:42:30.840078Z",
     "start_time": "2019-06-08T10:42:30.830444Z"
    }
   },
   "outputs": [],
   "source": [
    "def plot_data(x: List[float], y: List[float]) -> None:\n",
    "    plt.figure(figsize=(22,10))\n",
    "    plt.scatter(x, y)\n",
    "    reg = LinearRegressor()\n",
    "    reg.fit(x, y)\n",
    "    x_pred = [min(x), max(x)]\n",
    "    y_pred = reg.predict(x_pred)\n",
    "    plt.plot(x_pred, y_pred, 'red')\n",
    "    plt.show()"
   ]
  },
  {
   "cell_type": "code",
   "execution_count": 47,
   "metadata": {
    "ExecuteTime": {
     "end_time": "2019-06-08T10:42:31.679578Z",
     "start_time": "2019-06-08T10:42:31.090047Z"
    }
   },
   "outputs": [
    {
     "data": {
      "image/png": "[encoded data removed]",
      "text/plain": [
       "<Figure size 1584x720 with 1 Axes>"
      ]
     },
     "metadata": {
      "needs_background": "light"
     },
     "output_type": "display_data"
    }
   ],
   "source": [
    "plot_data(x,y)"
   ]
  }
 ],
 "metadata": {
  "kernelspec": {
   "display_name": "Python 3",
   "language": "python",
   "name": "python3"
  },
  "language_info": {
   "codemirror_mode": {
    "name": "ipython",
    "version": 3
   },
   "file_extension": ".py",
   "mimetype": "text/x-python",
   "name": "python",
   "nbconvert_exporter": "python",
   "pygments_lexer": "ipython3",
   "version": "3.6.7"
  },
  "varInspector": {
   "cols": {
    "lenName": 16,
    "lenType": 16,
    "lenVar": 40
   },
   "kernels_config": {
    "python": {
     "delete_cmd_postfix": "",
     "delete_cmd_prefix": "del ",
     "library": "var_list.py",
     "varRefreshCmd": "print(var_dic_list())"
    },
    "r": {
     "delete_cmd_postfix": ") ",
     "delete_cmd_prefix": "rm(",
     "library": "var_list.r",
     "varRefreshCmd": "cat(var_dic_list()) "
    }
   },
   "types_to_exclude": [
    "module",
    "function",
    "builtin_function_or_method",
    "instance",
    "_Feature"
   ],
   "window_display": false
  }
 },
 "nbformat": 4,
 "nbformat_minor": 2
}
