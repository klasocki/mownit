{
 "cells": [
  {
   "cell_type": "markdown",
   "metadata": {},
   "source": [
    "# Rzadkie wektory i macierze\n",
    "* [Bardzo fajny wykład na Ważniaku](http://wazniak.mimuw.edu.pl/index.php?title=MN08)\n",
    "* [Opis formatów zapisu rzadkich macierzy w cuSPARSE](http://docs.nvidia.com/cuda/cusparse/index.html#cusparse-indexing-and-data-formats)\n",
    "* https://en.wikipedia.org/wiki/Sparse_matrix\n",
    "\n",
    "### Pytania:\n",
    "* po co stosujemy?\n",
    "* w jakich problemach pojawiają się rzadkie macierze?\n",
    "\n",
    "### Zadania:\n",
    "* zaimplementować struktury danych przechowujące rzadkie wektory i macierze (format dowolny)\n",
    "* zaimplementować podstawowe operacje na wektorach (dodawanie, mnożenie przez skalar, przez wektor)\n",
    "* zaimplementować podstawowe operacje ma macierzach (dodawanie, mnożenie przez skalar, przez wektor, przez macierz)"
   ]
  },
  {
   "cell_type": "markdown",
   "metadata": {},
   "source": [
    "# Iteracyjne rozwiązywanie układów równań liniowych\n",
    "\n",
    "* Czytanka: Kincaid, Cheney rozdział 8.2. Iterative Solutions of Linear Systems, str. 319\n",
    "* Metody: Jacobiego, Gaussa-Seidla, SOR, Conjugate Gradient\n",
    "\n",
    "### Po co stosujemy?\n",
    "* wielkie systemy, które trudno rozwiązać analitycznie (lub jest to wręcz niemożliwe)\n",
    "* rzadkie macierze\n",
    "* coś jeszcze?\n",
    "\n",
    "### Zadania:\n",
    "* zadanie wstępne: zaimplementować [metodę Netwona](https://en.wikipedia.org/wiki/Newton%27s_method) znajdywania zer funkcji rzeczywistych\n",
    "* zaimplementować dowolną metodę iteracyjną rozwiązywania układów równań liniowych\n",
    "* przetestować powyższą metodę dla wygenerowanych macierzy (2x2, 3x3, 4x4) i sprawdzić jej poprawność\n",
    "* sprawdzić, jak liczba iteracji wpływa na dokładność wyniku (wykres jest bardzo dogodną reprezentacją tego wyniku)\n",
    "* (*) porównać zbieżność metod: Jacobiego, Gaussa-Seidla, SOR i Conjugate Gradient"
   ]
  },
  {
   "cell_type": "code",
   "execution_count": null,
   "metadata": {
    "collapsed": true
   },
   "outputs": [],
   "source": [
    "def agh_superfast_jacobi(A: np.matrix, b: np.matrix, iterations: int=1000) -> np.matrix:\n",
    "    \"\"\"Solve the system of equations Ax = b (for x) using the iterative Jacobi method.\n",
    "    \n",
    "    :param A: a square, non-singular numpy matrix of size NxN\n",
    "    :param b: the right-hand side vector of size N\n",
    "    :param iterations: number of iterations of the method to perform, defaults to 1000.\n",
    "    :return: the vector of solutions (x) of size N.\n",
    "    \"\"\"\n",
    "    pass"
   ]
  },
  {
   "cell_type": "code",
   "execution_count": null,
   "metadata": {
    "collapsed": true
   },
   "outputs": [],
   "source": []
  }
 ],
 "metadata": {
  "kernelspec": {
   "display_name": "Python 3",
   "language": "python",
   "name": "python3"
  },
  "language_info": {
   "codemirror_mode": {
    "name": "ipython",
    "version": 3
   },
   "file_extension": ".py",
   "mimetype": "text/x-python",
   "name": "python",
   "nbconvert_exporter": "python",
   "pygments_lexer": "ipython3",
   "version": "3.7.2"
  },
  "varInspector": {
   "cols": {
    "lenName": 16,
    "lenType": 16,
    "lenVar": 40
   },
   "kernels_config": {
    "python": {
     "delete_cmd_postfix": "",
     "delete_cmd_prefix": "del ",
     "library": "var_list.py",
     "varRefreshCmd": "print(var_dic_list())"
    },
    "r": {
     "delete_cmd_postfix": ") ",
     "delete_cmd_prefix": "rm(",
     "library": "var_list.r",
     "varRefreshCmd": "cat(var_dic_list()) "
    }
   },
   "types_to_exclude": [
    "module",
    "function",
    "builtin_function_or_method",
    "instance",
    "_Feature"
   ],
   "window_display": false
  }
 },
 "nbformat": 4,
 "nbformat_minor": 2
}
